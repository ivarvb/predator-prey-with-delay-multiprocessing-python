{
 "cells": [
  {
   "cell_type": "markdown",
   "metadata": {},
   "source": [
    "# Lotka-Volterra with Delay a Multiprocessing Solution in Python\n",
    "----"
   ]
  },
  {
   "cell_type": "markdown",
   "metadata": {},
   "source": [
    "Declaração das librarias a serem emrpegadas:"
   ]
  },
  {
   "cell_type": "code",
   "execution_count": 1,
   "metadata": {},
   "outputs": [],
   "source": [
    "#!/usr/bin/python3\n",
    "# -*- coding: utf-8 -*-\n",
    "\n",
    "\"\"\"Lotka-Volterra.py: Algoritmo para solucionar as equações de Lotka-Volterra\n",
    "com delays.\"\"\"\n",
    "__author__      = \"Ivar Vargas Belizario\"\n",
    "__copyright__   = \"Copyright 2020\"\n",
    "\n",
    "\n",
    "\"\"\"Librerías para multiprocessamento\"\"\"\n",
    "import multiprocessing as mp\n",
    "from multiprocessing import Pool\n",
    "\n",
    "\"\"\"Librerías para o tempo\"\"\"\n",
    "import timeit\n",
    "\n",
    "\"\"\"Librerías para importartar a função linspace e o mõdulo array\"\"\"\n",
    "from pylab import linspace, array\n",
    "\n",
    "\"\"\"Librería para solucionar equações differencias\"\"\"\n",
    "from ddeint import ddeint\n",
    "\n",
    "\"\"\"Librerías para gerar visualizações\"\"\"\n",
    "import matplotlib.pyplot as plt\n",
    "\n",
    "\"\"\"Librerías para manipulação de matrices\"\"\"\n",
    "import numpy as np"
   ]
  },
  {
   "cell_type": "markdown",
   "metadata": {},
   "source": [
    "Definição dos métodos para solucionar as equações e para a paralelização:"
   ]
  },
  {
   "cell_type": "code",
   "execution_count": 2,
   "metadata": {},
   "outputs": [],
   "source": [
    "def model(Y,t,delay,a,b,c,d):\n",
    "    \"\"\"A função modelo é definida para solucionar as equações Lotka-Volterra com delays\"\"\"\n",
    "    x,y = Y(t)\n",
    "    xd,yd = Y(t-delay)\n",
    "    dx =  x*(a-(b*yd))\n",
    "    dy = -y*(c-(d*xd))\n",
    "    return array([dx, dy])\n",
    "\n",
    "def algoritmo1(delay):\n",
    "    \"\"\"Algoritmo para solucionar as equações Lotka-Volterra empregando\n",
    "    a libreria ddeint\"\"\"\n",
    "    tt = linspace(0,30,20000)\n",
    "    a = 0.5\n",
    "    b = 0.5\n",
    "    c = 0.5\n",
    "    d = 0.5\n",
    "    x0 = 1\n",
    "    y0 = 2    \n",
    "    f = lambda t : array([x0, y0])\n",
    "    return ddeint(model, f, tt, fargs=(delay,a,b,c,d))"
   ]
  },
  {
   "cell_type": "markdown",
   "metadata": {},
   "source": [
    "Método de inicio:"
   ]
  },
  {
   "cell_type": "code",
   "execution_count": null,
   "metadata": {},
   "outputs": [],
   "source": [
    "def main():\n",
    "    \"\"\"Método inicial\"\"\"\n",
    "\n",
    "    #1) Equações de Lotka-Volterra com atraso de tempo\n",
    "    delays = [0.1, 0.2, 0.3, 0.4, 0.5]\n",
    "    \n",
    "    fig, ax = plt.subplots(1, figsize=(6, 4))\n",
    "    ax.set_title('Lotka-Volterra com Delays (Alg. 1)')\n",
    "    ax.set_xlabel('População X')\n",
    "    ax.set_ylabel('População Y')\n",
    "    for i in range(len(delays)):\n",
    "        results = algoritmo1(delays[i])\n",
    "        ax.plot(results[:,0], results[:,1], lw=2, label='delay = %.01f'%delays[i])\n",
    "    ax.legend()\n",
    "    ax.figure.savefig(\"results1.png\")\n",
    "    \n",
    "    \"\"\"A solução apresentada no método algoritmo1(delay) utiliza a libraria ddeint,\n",
    "    que tem como finalidade solucionar equações diferenciais de forma simples\n",
    "    mas com um alto custo computacional. Desta forma este algoritmo nos resultados\n",
    "    apresenta um alto custo computacional pela necessidade do cálculo das equações\n",
    "    diferenciais com a libraria ddeint.\n",
    "    \"\"\"\n",
    "\n",
    "    #2) Teste de performance\n",
    "    nc = mp.cpu_count()\n",
    "    \n",
    "    Y_time = []\n",
    "    X_cpus = []\n",
    "    for i in range(nc):\n",
    "        start = timeit.default_timer()\n",
    "        pool = Pool(processes=i+1)\n",
    "        results = pool.map(algoritmo1, delays)\n",
    "        pool.close()\n",
    "        stop = timeit.default_timer()\n",
    "        timev = stop - start\n",
    "        Y_time.append(timev)\n",
    "        X_cpus.append(i+1)\n",
    "        \n",
    "    fig, ax = plt.subplots(1, figsize=(6, 4))\n",
    "    ax.set_title('Teste de Performance (Alg. 1)')\n",
    "    ax.set_xlabel('Quantidade de núcleos')\n",
    "    ax.set_ylabel('Tempo (s)')\n",
    "    ax.plot(X_cpus, Y_time, lw=2)\n",
    "    ax.figure.savefig(\"results2.png\")\n",
    "\n",
    "if __name__ == \"__main__\":\n",
    "    main()"
   ]
  }
 ],
 "metadata": {
  "kernelspec": {
   "display_name": "Python 3",
   "language": "python",
   "name": "python3"
  },
  "language_info": {
   "codemirror_mode": {
    "name": "ipython",
    "version": 3
   },
   "file_extension": ".py",
   "mimetype": "text/x-python",
   "name": "python",
   "nbconvert_exporter": "python",
   "pygments_lexer": "ipython3",
   "version": "3.6.8"
  }
 },
 "nbformat": 4,
 "nbformat_minor": 4
}
